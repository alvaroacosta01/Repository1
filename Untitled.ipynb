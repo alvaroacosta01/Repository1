import pygame
import random

pygame.init()

screen_width = 1000
screen_height = 800
screen = pygame.display.set_mode((screen_width, screen_height))

white = (255, 255, 255)
black = (0, 0, 0)
red = (255, 0, 0)

# Fruit class represents the falling fruits
class Fruit(pygame.sprite.Sprite):
    def __init__(self):
        super().__init__()
        self.image = pygame.Surface([30, 30])
        self.image.fill(red)
        self.rect = self.image.get_rect()
        self.rect.x = random.randrange(screen_width - self.rect.width)
        self.rect.y = random.randrange(-50, -10)
        self.speed = random.randrange(1, 5)

    def update(self):
        # Move the fruit down the screen
        self.rect.y += self.speed
        if self.rect.y > screen_height:
            # If the fruit reaches the bottom, reposition it at the top
            self.rect.x = random.randrange(screen_width - self.rect.width)
            self.rect.y = random.randrange(-50, -10)
            self.speed = random.randrange(1, 5)

# Badfruit class represents the falling bad fruits
class Badfruit(pygame.sprite.Sprite):
    def __init__(self):
        super().__init__()
        self.image = pygame.Surface([30, 30])
        self.image.fill(black)
        self.rect = self.image.get_rect()
        self.rect.x = random.randrange(screen_width - self.rect.width)
        self.rect.y = random.randrange(-50, -10)
        self.speed = random.randrange(1, 5)

    def update(self):
        # Move the bad fruit down the screen
        self.rect.y += self.speed
        if self.rect.y > screen_height:
            # If the bad fruit reaches the bottom, reposition it at the top
            self.rect.x = random.randrange(screen_width - self.rect.width)
            self.rect.y = random.randrange(-50, -10)
            self.speed = random.randrange(1, 5)

# Basket class represents the player's basket
class Basket(pygame.sprite.Sprite):
    def __init__(self):
        super().__init__()
        self.image = pygame.Surface([50, 50])
        self.image.fill(black)
        self.rect = self.image.get_rect()
        self.rect.x = (screen_width - self.rect.width) // 2
        self.rect.y = screen_height - self.rect.height

    def update(self):
        # Update the basket's position based on the mouse movement
        pos = pygame.mouse.get_pos()
        self.rect.x = pos[0] - self.rect.width // 2

# Create sprite groups
all_sprites_list = pygame.sprite.Group()
all_sprites_list_bad = pygame.sprite.Group()
fruit_list = pygame.sprite.Group()
fruit_list_bad = pygame.sprite.Group()
basket_list = pygame.sprite.Group()
basket_list_bad = pygame.sprite.Group()

# Create multiple instances of Fruit and add them to the groups
for i in range(50):
    fruit = Fruit()
    all_sprites_list.add(fruit)
    fruit_list.add(fruit)

# Create multiple instances of Badfruit and add them to the groups
for i in range(5):
    badfruit = Badfruit()
    all_sprites_list_bad.add(badfruit)
    fruit_list_bad.add(badfruit)

# Create the player's basket and add it to the groups
basket = Basket()
all_sprites_list.add(basket)
basket_list.add(basket)

# Create a bad basket for game over condition and add it to the groups
badbasket = Basket()
all_sprites_list_bad.add(badbasket)
basket_list_bad.add(badbasket)

score = 0
bad = 0

game_over = False

clock = pygame.time.Clock()

while not game_over:
    for event in pygame.event.get():
        if event.type == pygame.QUIT:
            game_over = True

    all_sprites_list.update()
    all_sprites_list_bad.update()

    # Check for collision between the player's basket and fruits
    fruit_hit_list = pygame.sprite.spritecollide(basket, fruit_list, True)
    
    # Check for collision between the bad basket and bad fruits
    fruit_hit_list_bad = pygame.sprite.spritecollide(badbasket, fruit_list_bad, True)

    for fruit in fruit_hit_list:
        score += 1
        if score == 50:
            # If the player catches 50 fruits, the game ends with a victory message
            print("Congratulations! You won!😜")
            pygame.quit()
        print(score)
        
    for fruit in fruit_hit_list_bad:
        bad += 1
        if bad == 1:
            # If the bad basket catches a bad fruit, the game ends with a game over message
            pygame.quit()
            print("Game Over! You lost!👻")
        print(score)

    screen.fill(white)

    all_sprites_list.draw(screen)
    all_sprites_list_bad.draw(screen)

    pygame.display.update()

    clock.tick(60)

pygame.quit()
